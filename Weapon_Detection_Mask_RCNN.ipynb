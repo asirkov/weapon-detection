{
  "nbformat": 4,
  "nbformat_minor": 0,
  "metadata": {
    "accelerator": "GPU",
    "colab": {
      "name": "Weapon Detection Mask_RCNN.ipynb",
      "provenance": [],
      "collapsed_sections": [],
      "mount_file_id": "1Hmc77xH2wVYAMp0COn1yC_kZTanx0p0O",
      "authorship_tag": "ABX9TyObipRwg9/pj7l8GHiD3P2A",
      "include_colab_link": true
    },
    "kernelspec": {
      "display_name": "Python 3",
      "name": "python3"
    },
    "language_info": {
      "name": "python"
    }
  },
  "cells": [
    {
      "cell_type": "markdown",
      "metadata": {
        "id": "view-in-github",
        "colab_type": "text"
      },
      "source": [
        "<a href=\"https://colab.research.google.com/github/asirkov/weapon-detection/blob/main/Weapon_Detection_Mask_RCNN.ipynb\" target=\"_parent\"><img src=\"https://colab.research.google.com/assets/colab-badge.svg\" alt=\"Open In Colab\"/></a>"
      ]
    },
    {
      "cell_type": "code",
      "metadata": {
        "id": "TFRX5lpB2LP-"
      },
      "source": [
        "# !git clone https://github.com/matterport/Mask_RCNN"
      ],
      "execution_count": null,
      "outputs": []
    },
    {
      "cell_type": "code",
      "metadata": {
        "id": "s4vXNZJYCRte"
      },
      "source": [
        "import shutil, os  \n",
        "\n",
        "# Copy required files\n",
        "\n",
        "if os.path.exists(\"/content/mrcnn\"):\n",
        "    shutil.rmtree(\"/content/mrcnn\")\n",
        "\n",
        "if not os.path.exists(\"/content/mrcnn\"):\n",
        "  shutil.copytree('/content/drive/MyDrive/Mask_RCNN/mrcnn','/content/mrcnn')\n",
        "\n",
        "\n",
        "# Remove loaded directory\n",
        "if os.path.exists(\"/content/Mask_RCNN\"):\n",
        "  shutil.rmtree(\"/content/Mask_RCNN\")\n",
        "  \n",
        "# Copy start COCO weights\n",
        "if not os.path.exists(\"/content/weights.h5\"):\n",
        "  shutil.copy2('/content/drive/MyDrive/Mask_RCNN/mask_rcnn_coco.h5','/content/weights.h5')\n",
        "  \n",
        "# # Copy weapon weights\n",
        "# if not os.path.exists(\"/content/weights.h5\"):\n",
        "  # shutil.copy2('/content/drive/MyDrive/Mask_RCNN/logs4/mask_rcnn_object_0050.h5','/content/weights.h5')\n",
        "\n",
        "if os.path.exists(\"/content/dataset\"):\n",
        "  shutil.rmtree(\"/content/dataset\")\n",
        "\n",
        "# Copy dataset\n",
        "if not os.path.exists(\"/content/dataset\"):\n",
        "  shutil.copytree('/content/drive/MyDrive/Mask_RCNN/dataset3','/content/dataset')"
      ],
      "execution_count": null,
      "outputs": []
    },
    {
      "cell_type": "code",
      "metadata": {
        "id": "zD-98nF8GDOh"
      },
      "source": [
        "!pip install keras==2.2.5\n",
        "%tensorflow_version 1.x\n",
        "\n",
        "!pip install h5py==2.10.0"
      ],
      "execution_count": null,
      "outputs": []
    },
    {
      "cell_type": "code",
      "metadata": {
        "id": "mQIA09d3GJKO"
      },
      "source": [
        "import os\n",
        "import sys\n",
        "import json\n",
        "import datetime\n",
        "import numpy as np\n",
        "import skimage.draw\n",
        "import cv2\n",
        "from mrcnn.visualize import display_instances\n",
        "import matplotlib.pyplot as plt\n",
        "\n",
        "# Set root directory of the project\n",
        "ROOT_DIR = os.path.abspath(\"/content/\")\n",
        "\n",
        "# Import Mask RCNN\n",
        "sys.path.append(ROOT_DIR)  # To find local version of the library\n",
        "\n",
        "from mrcnn.config import Config\n",
        "from mrcnn import model as modellib, utils\n",
        "\n",
        "# Path to trained weights file\n",
        "WEIGHTS_PATH = os.path.join(ROOT_DIR, \"weights.h5\")\n",
        "\n",
        "# Directory to save logs and model checkpoints, if not provided\n",
        "# through the command line argument --logs\n",
        "DEFAULT_LOGS_DIR = os.path.join(ROOT_DIR, \"logs\")"
      ],
      "execution_count": null,
      "outputs": []
    },
    {
      "cell_type": "code",
      "metadata": {
        "id": "k3QM9Dz_GevZ"
      },
      "source": [
        "# Create configuration class\n",
        "\n",
        "class CustomConfig(Config):\n",
        "    \"\"\"Configuration for training on the toy  dataset.\n",
        "    Derives from the base Config class and overrides some values.\n",
        "    \"\"\"\n",
        "    \n",
        "    # Give the configuration a recognizable name\n",
        "    NAME = \"object\"\n",
        "\n",
        "    # We use a GPU with 12GB memory, which can fit two images.\n",
        "    # Adjust down if you use a smaller GPU.\n",
        "    IMAGES_PER_GPU = 2\n",
        "\n",
        "    # Number of classes (including background)\n",
        "    NUM_CLASSES = 1 + 4  # Background + knife + pistol + carabine + rifle\n",
        "\n",
        "    # Number of training steps per epoch\n",
        "    STEPS_PER_EPOCH = 100\n",
        "\n",
        "    # Skip detections with < 90% confidence\n",
        "    DETECTION_MIN_CONFIDENCE = 0.9"
      ],
      "execution_count": null,
      "outputs": []
    },
    {
      "cell_type": "code",
      "metadata": {
        "id": "5R7cRaJqIc6n"
      },
      "source": [
        "# Create dataset class\n",
        "\n",
        "class CustomDataset(utils.Dataset):\n",
        "\n",
        "    def load_custom(self, dataset_dir, subset):\n",
        "        \"\"\"Load a subset of the Dog-Cat dataset.\n",
        "        dataset_dir: Root directory of the dataset.\n",
        "        subset: Subset to load: train or val\n",
        "        \"\"\"\n",
        "        # Add classes. We have only one class to add.\n",
        "        self.add_class(\"object\", 1, \"knife\")\n",
        "        self.add_class(\"object\", 2, \"pistol\")\n",
        "        self.add_class(\"object\", 3, \"carabine\")\n",
        "        self.add_class(\"object\", 4, \"rifle\")\n",
        "\n",
        "        # Train or validation dataset?\n",
        "        assert subset in [\"train\", \"val\"]\n",
        "        dataset_dir = os.path.join(dataset_dir, subset)\n",
        "\n",
        "        # Load annotations\n",
        "        # VGG Image Annotator saves each image in the form:\n",
        "        # { 'filename': '28503151_5b5b7ec140_b.jpg',\n",
        "        #   'regions': {\n",
        "        #       '0': {\n",
        "        #           'region_attributes': {},\n",
        "        #           'shape_attributes': {\n",
        "        #               'all_points_x': [...],\n",
        "        #               'all_points_y': [...],\n",
        "        #               'name': 'polygon'}},\n",
        "        #       ... more regions ...\n",
        "        #   },\n",
        "        #   'size': 100202\n",
        "        # }\n",
        "        # We mostly care about the x and y coordinates of each region\n",
        "        annotations1 = json.load(open(os.path.join(dataset_dir, \"annotations.json\")))\n",
        "        # print(annotations1)\n",
        "        annotations = list(annotations1.values())  # don't need the dict keys\n",
        "\n",
        "        # The VIA tool saves images in the JSON even if they don't have any\n",
        "        # annotations. Skip unannotated images.\n",
        "        annotations = [a for a in annotations if a['regions']]\n",
        "        \n",
        "        # Add images\n",
        "        for a in annotations:\n",
        "            # print(a)\n",
        "            # Get the x, y coordinaets of points of the polygons that make up\n",
        "            # the outline of each object instance. There are stores in the\n",
        "            # shape_attributes (see json format above)\n",
        "            polygons = [r['shape_attributes'] for r in a['regions']] \n",
        "            objects = [s['region_attributes']['type'] for s in a['regions']]\n",
        "            print(\"objects:\",objects)\n",
        "            name_dict = {\"knife\": 1, \"pistol\": 2, \"carabine\": 3, \"rifle\": 4}\n",
        "            # key = tuple(name_dict)\n",
        "            num_ids = [name_dict[a] for a in objects]\n",
        "     \n",
        "            # num_ids = [int(n['Event']) for n in objects]\n",
        "            # load_mask() needs the image size to convert polygons to masks.\n",
        "            # Unfortunately, VIA doesn't include it in JSON, so we must read\n",
        "            # the image. This is only managable since the dataset is tiny.\n",
        "            print(\"numids\",num_ids)\n",
        "            image_path = os.path.join(dataset_dir, a['filename'])\n",
        "            image = skimage.io.imread(image_path)\n",
        "            height, width = image.shape[:2]\n",
        "\n",
        "            self.add_image(\n",
        "                \"object\",  ## for a single class just add the name here\n",
        "                image_id=a['filename'],  # use file name as a unique image id\n",
        "                path=image_path,\n",
        "                width=width, height=height,\n",
        "                polygons=polygons,\n",
        "                num_ids=num_ids\n",
        "                )\n",
        "\n",
        "    def load_mask(self, image_id):\n",
        "        \"\"\"Generate instance masks for an image.\n",
        "       Returns:\n",
        "        masks: A bool array of shape [height, width, instance count] with\n",
        "            one mask per instance.\n",
        "        class_ids: a 1D array of class IDs of the instance masks.\n",
        "        \"\"\"\n",
        "        # If not a Dog-Cat dataset image, delegate to parent class.\n",
        "        image_info = self.image_info[image_id]\n",
        "        if image_info[\"source\"] != \"object\":\n",
        "            return super(self.__class__, self).load_mask(image_id)\n",
        "\n",
        "        # Convert polygons to a bitmap mask of shape\n",
        "        # [height, width, instance_count]\n",
        "        info = self.image_info[image_id]\n",
        "        if info[\"source\"] != \"object\":\n",
        "            return super(self.__class__, self).load_mask(image_id)\n",
        "        num_ids = info['num_ids']\n",
        "        mask = np.zeros([info[\"height\"], info[\"width\"], len(info[\"polygons\"])],\n",
        "                        dtype=np.uint8)\n",
        "        for i, p in enumerate(info[\"polygons\"]):\n",
        "            # Get indexes of pixels inside the polygon and set them to 1\n",
        "        \trr, cc = skimage.draw.polygon(p['all_points_y'], p['all_points_x'])\n",
        "\n",
        "        \tmask[rr, cc, i] = 1\n",
        "\n",
        "        # Return mask, and array of class IDs of each instance. Since we have\n",
        "        # one class ID only, we return an array of 1s\n",
        "        # Map class names to class IDs.\n",
        "        num_ids = np.array(num_ids, dtype=np.int32)\n",
        "        return mask, num_ids #np.ones([mask.shape[-1]], dtype=np.int32)\n",
        "\n",
        "    def image_reference(self, image_id):\n",
        "        \"\"\"Return the path of the image.\"\"\"\n",
        "        info = self.image_info[image_id]\n",
        "        if info[\"source\"] == \"object\":\n",
        "            return info[\"path\"]\n",
        "        else:\n",
        "            super(self.__class__, self).image_reference(image_id)"
      ],
      "execution_count": null,
      "outputs": []
    },
    {
      "cell_type": "code",
      "metadata": {
        "id": "WkA96Mw-JDyn"
      },
      "source": [
        "# Create train method\n",
        "\n",
        "def train(model):\n",
        "    \"\"\"Train the model.\"\"\"\n",
        "    # Training dataset.\n",
        "    dataset_train = CustomDataset()\n",
        "    dataset_train.load_custom(\"/content/dataset\", \"train\")\n",
        "    dataset_train.prepare()\n",
        "\n",
        "    # Validation dataset\n",
        "    dataset_val = CustomDataset()\n",
        "    dataset_val.load_custom(\"/content/dataset\", \"val\")\n",
        "    dataset_val.prepare()\n",
        "\n",
        "    # *** This training schedule is an example. Update to your needs ***\n",
        "    # Since we're using a very small dataset, and starting from\n",
        "    # COCO trained weights, we don't need to train too long. Also,\n",
        "    # no need to train all layers, just the heads should do it.\n",
        "    print(\"Training network heads\")\n",
        "    model.train(dataset_train, dataset_val,\n",
        "                learning_rate=config.LEARNING_RATE,\n",
        "                epochs=100,\n",
        "                layers='heads')"
      ],
      "execution_count": null,
      "outputs": []
    },
    {
      "cell_type": "code",
      "metadata": {
        "id": "qA0KWu3FJO-9"
      },
      "source": [
        "# Create config and model objects\n",
        "\n",
        "config = CustomConfig()\n",
        "model = modellib.MaskRCNN(mode=\"training\", \n",
        "                          config=config,\n",
        "                          model_dir=DEFAULT_LOGS_DIR)"
      ],
      "execution_count": null,
      "outputs": []
    },
    {
      "cell_type": "code",
      "metadata": {
        "id": "26tVxAPzJSlQ"
      },
      "source": [
        "# Optional: download last version of coco_weights\n",
        "\n",
        "# Download weights file\n",
        "# if not os.path.exists(COCO_WEIGHTS_PATH):\n",
        "  # utils.download_trained_weights(COCO_WEIGHTS_PATH)"
      ],
      "execution_count": null,
      "outputs": []
    },
    {
      "cell_type": "code",
      "metadata": {
        "id": "-0yxuQG8JlRi"
      },
      "source": [
        "# Load weights into model\n",
        "\n",
        "model.load_weights(WEIGHTS_PATH, \n",
        "                   by_name=True, \n",
        "                   exclude=[\"mrcnn_class_logits\", \n",
        "                            \"mrcnn_bbox_fc\",\n",
        "                            \"mrcnn_bbox\", \n",
        "                            \"mrcnn_mask\"])"
      ],
      "execution_count": null,
      "outputs": []
    },
    {
      "cell_type": "code",
      "metadata": {
        "collapsed": true,
        "id": "0WMaLHZkMkPb"
      },
      "source": [
        "# Start traning\n",
        "\n",
        "train(model)\n"
      ],
      "execution_count": null,
      "outputs": []
    },
    {
      "cell_type": "code",
      "metadata": {
        "id": "kLyFUSff4tep"
      },
      "source": [
        "import shutil\n",
        "\n",
        "# Load weights logs\n",
        "shutil.copytree('/content/logs', '/content/drive/MyDrive/Mask_RCNN/logs5')"
      ],
      "execution_count": null,
      "outputs": []
    }
  ]
}