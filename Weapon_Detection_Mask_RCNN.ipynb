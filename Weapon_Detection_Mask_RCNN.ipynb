{
  "nbformat": 4,
  "nbformat_minor": 0,
  "metadata": {
    "colab": {
      "name": "Weapon Detection Mask_RCNN.ipynb",
      "provenance": [],
      "mount_file_id": "1Hmc77xH2wVYAMp0COn1yC_kZTanx0p0O",
      "authorship_tag": "ABX9TyPAaiE9cIWIg2WuDDx7lQLl",
      "include_colab_link": true
    },
    "kernelspec": {
      "name": "python3",
      "display_name": "Python 3"
    },
    "language_info": {
      "name": "python"
    },
    "accelerator": "GPU"
  },
  "cells": [
    {
      "cell_type": "markdown",
      "metadata": {
        "id": "view-in-github",
        "colab_type": "text"
      },
      "source": [
        "<a href=\"https://colab.research.google.com/github/asirkov/weapon-detection/blob/main/Weapon_Detection_Mask_RCNN.ipynb\" target=\"_parent\"><img src=\"https://colab.research.google.com/assets/colab-badge.svg\" alt=\"Open In Colab\"/></a>"
      ]
    },
    {
      "cell_type": "code",
      "metadata": {
        "colab": {
          "base_uri": "https://localhost:8080/"
        },
        "id": "TFRX5lpB2LP-",
        "outputId": "996bb970-50f2-40f7-9c09-3070db6f43d4"
      },
      "source": [
        "!git clone https://github.com/matterport/Mask_RCNN"
      ],
      "execution_count": 1,
      "outputs": [
        {
          "output_type": "stream",
          "name": "stdout",
          "text": [
            "Cloning into 'Mask_RCNN'...\n",
            "remote: Enumerating objects: 956, done.\u001b[K\n",
            "remote: Total 956 (delta 0), reused 0 (delta 0), pack-reused 956\u001b[K\n",
            "Receiving objects: 100% (956/956), 125.23 MiB | 29.82 MiB/s, done.\n",
            "Resolving deltas: 100% (562/562), done.\n"
          ]
        }
      ]
    },
    {
      "cell_type": "code",
      "metadata": {
        "id": "s4vXNZJYCRte"
      },
      "source": [
        "import shutil, os  \n",
        "\n",
        "# Copy required files\n",
        "\n",
        "# if not os.path.exists(\"/content/mrcnn\"):\n",
        "#   src = \"/content/Mask_RCNN/mrcnn\"\n",
        "#   dst = \"/content/mrcnn\"\n",
        "  \n",
        "#   os.mkdir(dst)\n",
        "\n",
        "#   try:\n",
        "#     shutil.rmtree('/.ipynb_checkpoints')\n",
        "#   except:\n",
        "#     pass\n",
        "  \n",
        "#   for item in os.listdir(src):\n",
        "#     s = os.path.join(src, item)\n",
        "#     d = os.path.join(dst, item)\n",
        "#     if os.path.isdir(s):\n",
        "#         shutil.copytree(s, d, False, None)\n",
        "#     else:\n",
        "#         shutil.copy2(s, d)\n",
        "\n",
        "# Copy required files\n",
        "\n",
        "if os.path.exists(\"/content/mrcnn\"):\n",
        "    shutil.rmtree(\"/content/mrcnn\")\n",
        "\n",
        "if not os.path.exists(\"/content/mrcnn\"):\n",
        "  shutil.copytree('/content/drive/MyDrive/Mask_RCNN/mrcnn','/content/mrcnn')\n",
        "\n",
        "\n",
        "# Remove loaded directory\n",
        "if os.path.exists(\"/content/Mask_RCNN\"):\n",
        "  shutil.rmtree(\"/content/Mask_RCNN\")\n",
        "  \n",
        "# Copy start COCO weights\n",
        "if not os.path.exists(\"/content/mask_rcnn_coco.h5\"):\n",
        "  shutil.copy2('/content/drive/MyDrive/Mask_RCNN/mask_rcnn_coco.h5','/content/mask_rcnn_coco.h5')\n",
        "\n",
        "if os.path.exists(\"/content/dataset\"):\n",
        "  shutil.rmtree(\"/content/dataset\")\n",
        "\n",
        "# Copy dataset\n",
        "if not os.path.exists(\"/content/dataset\"):\n",
        "  shutil.copytree('/content/drive/MyDrive/Mask_RCNN/weapon_dataset','/content/dataset')"
      ],
      "execution_count": 2,
      "outputs": []
    },
    {
      "cell_type": "code",
      "metadata": {
        "colab": {
          "base_uri": "https://localhost:8080/"
        },
        "id": "zD-98nF8GDOh",
        "outputId": "367779e2-0b8b-4780-8c52-658e67962537"
      },
      "source": [
        "!pip install keras==2.2.5\n",
        "%tensorflow_version 1.x\n",
        "\n",
        "!pip install h5py==2.10.0"
      ],
      "execution_count": 3,
      "outputs": [
        {
          "output_type": "stream",
          "name": "stdout",
          "text": [
            "Requirement already satisfied: keras==2.2.5 in /usr/local/lib/python3.7/dist-packages (2.2.5)\n",
            "Requirement already satisfied: scipy>=0.14 in /usr/local/lib/python3.7/dist-packages (from keras==2.2.5) (1.4.1)\n",
            "Requirement already satisfied: pyyaml in /usr/local/lib/python3.7/dist-packages (from keras==2.2.5) (3.13)\n",
            "Requirement already satisfied: keras-applications>=1.0.8 in /usr/local/lib/python3.7/dist-packages (from keras==2.2.5) (1.0.8)\n",
            "Requirement already satisfied: six>=1.9.0 in /usr/local/lib/python3.7/dist-packages (from keras==2.2.5) (1.15.0)\n",
            "Requirement already satisfied: numpy>=1.9.1 in /usr/local/lib/python3.7/dist-packages (from keras==2.2.5) (1.19.5)\n",
            "Requirement already satisfied: h5py in /usr/local/lib/python3.7/dist-packages (from keras==2.2.5) (2.10.0)\n",
            "Requirement already satisfied: keras-preprocessing>=1.1.0 in /usr/local/lib/python3.7/dist-packages (from keras==2.2.5) (1.1.2)\n",
            "TensorFlow 1.x selected.\n",
            "Requirement already satisfied: h5py==2.10.0 in /usr/local/lib/python3.7/dist-packages (2.10.0)\n",
            "Requirement already satisfied: six in /usr/local/lib/python3.7/dist-packages (from h5py==2.10.0) (1.15.0)\n",
            "Requirement already satisfied: numpy>=1.7 in /usr/local/lib/python3.7/dist-packages (from h5py==2.10.0) (1.19.5)\n"
          ]
        }
      ]
    },
    {
      "cell_type": "code",
      "metadata": {
        "colab": {
          "base_uri": "https://localhost:8080/"
        },
        "id": "mQIA09d3GJKO",
        "outputId": "d850f678-5047-4519-aec0-abaadc12fec8"
      },
      "source": [
        "import os\n",
        "import sys\n",
        "import json\n",
        "import datetime\n",
        "import numpy as np\n",
        "import skimage.draw\n",
        "import cv2\n",
        "from mrcnn.visualize import display_instances\n",
        "import matplotlib.pyplot as plt\n",
        "\n",
        "# Set root directory of the project\n",
        "ROOT_DIR = os.path.abspath(\"/content/\")\n",
        "\n",
        "# Import Mask RCNN\n",
        "sys.path.append(ROOT_DIR)  # To find local version of the library\n",
        "\n",
        "from mrcnn.config import Config\n",
        "from mrcnn import model as modellib, utils\n",
        "\n",
        "# Path to trained weights file\n",
        "COCO_WEIGHTS_PATH = os.path.join(ROOT_DIR, \"mask_rcnn_coco.h5\")\n",
        "\n",
        "# Directory to save logs and model checkpoints, if not provided\n",
        "# through the command line argument --logs\n",
        "DEFAULT_LOGS_DIR = os.path.join(ROOT_DIR, \"logs\")"
      ],
      "execution_count": 4,
      "outputs": [
        {
          "output_type": "stream",
          "name": "stderr",
          "text": [
            "Using TensorFlow backend.\n"
          ]
        }
      ]
    },
    {
      "cell_type": "code",
      "metadata": {
        "id": "k3QM9Dz_GevZ"
      },
      "source": [
        "# Create configuration class\n",
        "\n",
        "class CustomConfig(Config):\n",
        "    \"\"\"Configuration for training on the toy  dataset.\n",
        "    Derives from the base Config class and overrides some values.\n",
        "    \"\"\"\n",
        "    \n",
        "    # Give the configuration a recognizable name\n",
        "    NAME = \"object\"\n",
        "\n",
        "    # We use a GPU with 12GB memory, which can fit two images.\n",
        "    # Adjust down if you use a smaller GPU.\n",
        "    IMAGES_PER_GPU = 2\n",
        "\n",
        "    # Number of classes (including background)\n",
        "    NUM_CLASSES = 1 + 3  # Background + knife + pistol + carabine\n",
        "\n",
        "    # Number of training steps per epoch\n",
        "    STEPS_PER_EPOCH = 100\n",
        "\n",
        "    # Skip detections with < 90% confidence\n",
        "    DETECTION_MIN_CONFIDENCE = 0.9"
      ],
      "execution_count": 5,
      "outputs": []
    },
    {
      "cell_type": "code",
      "metadata": {
        "id": "5R7cRaJqIc6n"
      },
      "source": [
        "# Create dataset class\n",
        "\n",
        "class CustomDataset(utils.Dataset):\n",
        "\n",
        "    def load_custom(self, dataset_dir, subset):\n",
        "        \"\"\"Load a subset of the Dog-Cat dataset.\n",
        "        dataset_dir: Root directory of the dataset.\n",
        "        subset: Subset to load: train or val\n",
        "        \"\"\"\n",
        "        # Add classes. We have only one class to add.\n",
        "        self.add_class(\"object\", 1, \"knife\")\n",
        "        self.add_class(\"object\", 2, \"pistol\")\n",
        "        self.add_class(\"object\", 3, \"carabine\")\n",
        "        # self.add_class(\"object\", 3, \"xyz\")\n",
        "\n",
        "        # Train or validation dataset?\n",
        "        assert subset in [\"train\", \"val\"]\n",
        "        dataset_dir = os.path.join(dataset_dir, subset)\n",
        "\n",
        "        # Load annotations\n",
        "        # VGG Image Annotator saves each image in the form:\n",
        "        # { 'filename': '28503151_5b5b7ec140_b.jpg',\n",
        "        #   'regions': {\n",
        "        #       '0': {\n",
        "        #           'region_attributes': {},\n",
        "        #           'shape_attributes': {\n",
        "        #               'all_points_x': [...],\n",
        "        #               'all_points_y': [...],\n",
        "        #               'name': 'polygon'}},\n",
        "        #       ... more regions ...\n",
        "        #   },\n",
        "        #   'size': 100202\n",
        "        # }\n",
        "        # We mostly care about the x and y coordinates of each region\n",
        "        annotations1 = json.load(open(os.path.join(dataset_dir, \"annotations.json\")))\n",
        "        # print(annotations1)\n",
        "        annotations = list(annotations1.values())  # don't need the dict keys\n",
        "\n",
        "        # The VIA tool saves images in the JSON even if they don't have any\n",
        "        # annotations. Skip unannotated images.\n",
        "        annotations = [a for a in annotations if a['regions']]\n",
        "        \n",
        "        # Add images\n",
        "        for a in annotations:\n",
        "            # print(a)\n",
        "            # Get the x, y coordinaets of points of the polygons that make up\n",
        "            # the outline of each object instance. There are stores in the\n",
        "            # shape_attributes (see json format above)\n",
        "            polygons = [r['shape_attributes'] for r in a['regions']] \n",
        "            objects = [s['region_attributes']['type'] for s in a['regions']]\n",
        "            print(\"objects:\",objects)\n",
        "            name_dict = {\"knife\": 1, \"pistol\": 2, \"carabine\": 3} #,\"xyz\": 3}\n",
        "            # key = tuple(name_dict)\n",
        "            num_ids = [name_dict[a] for a in objects]\n",
        "     \n",
        "            # num_ids = [int(n['Event']) for n in objects]\n",
        "            # load_mask() needs the image size to convert polygons to masks.\n",
        "            # Unfortunately, VIA doesn't include it in JSON, so we must read\n",
        "            # the image. This is only managable since the dataset is tiny.\n",
        "            print(\"numids\",num_ids)\n",
        "            image_path = os.path.join(dataset_dir, a['filename'])\n",
        "            image = skimage.io.imread(image_path)\n",
        "            height, width = image.shape[:2]\n",
        "\n",
        "            self.add_image(\n",
        "                \"object\",  ## for a single class just add the name here\n",
        "                image_id=a['filename'],  # use file name as a unique image id\n",
        "                path=image_path,\n",
        "                width=width, height=height,\n",
        "                polygons=polygons,\n",
        "                num_ids=num_ids\n",
        "                )\n",
        "\n",
        "    def load_mask(self, image_id):\n",
        "        \"\"\"Generate instance masks for an image.\n",
        "       Returns:\n",
        "        masks: A bool array of shape [height, width, instance count] with\n",
        "            one mask per instance.\n",
        "        class_ids: a 1D array of class IDs of the instance masks.\n",
        "        \"\"\"\n",
        "        # If not a Dog-Cat dataset image, delegate to parent class.\n",
        "        image_info = self.image_info[image_id]\n",
        "        if image_info[\"source\"] != \"object\":\n",
        "            return super(self.__class__, self).load_mask(image_id)\n",
        "\n",
        "        # Convert polygons to a bitmap mask of shape\n",
        "        # [height, width, instance_count]\n",
        "        info = self.image_info[image_id]\n",
        "        if info[\"source\"] != \"object\":\n",
        "            return super(self.__class__, self).load_mask(image_id)\n",
        "        num_ids = info['num_ids']\n",
        "        mask = np.zeros([info[\"height\"], info[\"width\"], len(info[\"polygons\"])],\n",
        "                        dtype=np.uint8)\n",
        "        for i, p in enumerate(info[\"polygons\"]):\n",
        "            # Get indexes of pixels inside the polygon and set them to 1\n",
        "        \trr, cc = skimage.draw.polygon(p['all_points_y'], p['all_points_x'])\n",
        "\n",
        "        \tmask[rr, cc, i] = 1\n",
        "\n",
        "        # Return mask, and array of class IDs of each instance. Since we have\n",
        "        # one class ID only, we return an array of 1s\n",
        "        # Map class names to class IDs.\n",
        "        num_ids = np.array(num_ids, dtype=np.int32)\n",
        "        return mask, num_ids #np.ones([mask.shape[-1]], dtype=np.int32)\n",
        "\n",
        "    def image_reference(self, image_id):\n",
        "        \"\"\"Return the path of the image.\"\"\"\n",
        "        info = self.image_info[image_id]\n",
        "        if info[\"source\"] == \"object\":\n",
        "            return info[\"path\"]\n",
        "        else:\n",
        "            super(self.__class__, self).image_reference(image_id)"
      ],
      "execution_count": 6,
      "outputs": []
    },
    {
      "cell_type": "code",
      "metadata": {
        "id": "WkA96Mw-JDyn"
      },
      "source": [
        "# Create train method\n",
        "\n",
        "def train(model):\n",
        "    \"\"\"Train the model.\"\"\"\n",
        "    # Training dataset.\n",
        "    dataset_train = CustomDataset()\n",
        "    dataset_train.load_custom(\"/content/dataset\", \"train\")\n",
        "    dataset_train.prepare()\n",
        "\n",
        "    # Validation dataset\n",
        "    dataset_val = CustomDataset()\n",
        "    dataset_val.load_custom(\"/content/dataset\", \"val\")\n",
        "    dataset_val.prepare()\n",
        "\n",
        "    # *** This training schedule is an example. Update to your needs ***\n",
        "    # Since we're using a very small dataset, and starting from\n",
        "    # COCO trained weights, we don't need to train too long. Also,\n",
        "    # no need to train all layers, just the heads should do it.\n",
        "    print(\"Training network heads\")\n",
        "    model.train(dataset_train, dataset_val,\n",
        "                learning_rate=config.LEARNING_RATE,\n",
        "                epochs=10,\n",
        "                layers='heads')"
      ],
      "execution_count": 7,
      "outputs": []
    },
    {
      "cell_type": "code",
      "metadata": {
        "colab": {
          "base_uri": "https://localhost:8080/"
        },
        "id": "qA0KWu3FJO-9",
        "outputId": "3d3619d9-d1b6-49d0-a338-81990c0b0baf"
      },
      "source": [
        "# Create config and model objects\n",
        "\n",
        "config = CustomConfig()\n",
        "model = modellib.MaskRCNN(mode=\"training\", \n",
        "                          config=config,\n",
        "                          model_dir=DEFAULT_LOGS_DIR)"
      ],
      "execution_count": 8,
      "outputs": [
        {
          "output_type": "stream",
          "name": "stdout",
          "text": [
            "WARNING:tensorflow:From /usr/local/lib/python3.7/dist-packages/keras/backend/tensorflow_backend.py:541: The name tf.placeholder is deprecated. Please use tf.compat.v1.placeholder instead.\n",
            "\n",
            "WARNING:tensorflow:From /usr/local/lib/python3.7/dist-packages/keras/backend/tensorflow_backend.py:66: The name tf.get_default_graph is deprecated. Please use tf.compat.v1.get_default_graph instead.\n",
            "\n",
            "WARNING:tensorflow:From /usr/local/lib/python3.7/dist-packages/keras/backend/tensorflow_backend.py:4432: The name tf.random_uniform is deprecated. Please use tf.random.uniform instead.\n",
            "\n",
            "WARNING:tensorflow:From /usr/local/lib/python3.7/dist-packages/keras/backend/tensorflow_backend.py:2139: The name tf.nn.fused_batch_norm is deprecated. Please use tf.compat.v1.nn.fused_batch_norm instead.\n",
            "\n",
            "WARNING:tensorflow:From /usr/local/lib/python3.7/dist-packages/keras/backend/tensorflow_backend.py:4267: The name tf.nn.max_pool is deprecated. Please use tf.nn.max_pool2d instead.\n",
            "\n",
            "WARNING:tensorflow:From /usr/local/lib/python3.7/dist-packages/keras/backend/tensorflow_backend.py:2239: The name tf.image.resize_nearest_neighbor is deprecated. Please use tf.compat.v1.image.resize_nearest_neighbor instead.\n",
            "\n",
            "WARNING:tensorflow:From /tensorflow-1.15.2/python3.7/tensorflow_core/python/ops/array_ops.py:1475: where (from tensorflow.python.ops.array_ops) is deprecated and will be removed in a future version.\n",
            "Instructions for updating:\n",
            "Use tf.where in 2.0, which has the same broadcast rule as np.where\n",
            "WARNING:tensorflow:From /content/mrcnn/model.py:556: The name tf.random_shuffle is deprecated. Please use tf.random.shuffle instead.\n",
            "\n",
            "WARNING:tensorflow:From /content/mrcnn/utils.py:202: The name tf.log is deprecated. Please use tf.math.log instead.\n",
            "\n",
            "WARNING:tensorflow:From /content/mrcnn/model.py:603: calling crop_and_resize_v1 (from tensorflow.python.ops.image_ops_impl) with box_ind is deprecated and will be removed in a future version.\n",
            "Instructions for updating:\n",
            "box_ind is deprecated, use box_indices instead\n"
          ]
        }
      ]
    },
    {
      "cell_type": "code",
      "metadata": {
        "id": "26tVxAPzJSlQ"
      },
      "source": [
        "# Optional: download last version of coco_weights\n",
        "\n",
        "# Download weights file\n",
        "if not os.path.exists(COCO_WEIGHTS_PATH):\n",
        "  utils.download_trained_weights(COCO_WEIGHTS_PATH)"
      ],
      "execution_count": 9,
      "outputs": []
    },
    {
      "cell_type": "code",
      "metadata": {
        "colab": {
          "base_uri": "https://localhost:8080/"
        },
        "id": "-0yxuQG8JlRi",
        "outputId": "0f2b8a7a-c45d-4cfc-af0f-594b1b5f3fc3"
      },
      "source": [
        "# Load weights into model\n",
        "\n",
        "model.load_weights(COCO_WEIGHTS_PATH, \n",
        "                   by_name=True, \n",
        "                   exclude=[\"mrcnn_class_logits\", \n",
        "                            \"mrcnn_bbox_fc\",\n",
        "                            \"mrcnn_bbox\", \n",
        "                            \"mrcnn_mask\"])"
      ],
      "execution_count": 10,
      "outputs": [
        {
          "output_type": "stream",
          "name": "stdout",
          "text": [
            "WARNING:tensorflow:From /usr/local/lib/python3.7/dist-packages/keras/backend/tensorflow_backend.py:190: The name tf.get_default_session is deprecated. Please use tf.compat.v1.get_default_session instead.\n",
            "\n",
            "WARNING:tensorflow:From /usr/local/lib/python3.7/dist-packages/keras/backend/tensorflow_backend.py:197: The name tf.ConfigProto is deprecated. Please use tf.compat.v1.ConfigProto instead.\n",
            "\n",
            "WARNING:tensorflow:From /usr/local/lib/python3.7/dist-packages/keras/backend/tensorflow_backend.py:203: The name tf.Session is deprecated. Please use tf.compat.v1.Session instead.\n",
            "\n",
            "WARNING:tensorflow:From /usr/local/lib/python3.7/dist-packages/keras/backend/tensorflow_backend.py:207: The name tf.global_variables is deprecated. Please use tf.compat.v1.global_variables instead.\n",
            "\n",
            "WARNING:tensorflow:From /usr/local/lib/python3.7/dist-packages/keras/backend/tensorflow_backend.py:216: The name tf.is_variable_initialized is deprecated. Please use tf.compat.v1.is_variable_initialized instead.\n",
            "\n",
            "WARNING:tensorflow:From /usr/local/lib/python3.7/dist-packages/keras/backend/tensorflow_backend.py:223: The name tf.variables_initializer is deprecated. Please use tf.compat.v1.variables_initializer instead.\n",
            "\n"
          ]
        }
      ]
    },
    {
      "cell_type": "code",
      "metadata": {
        "colab": {
          "base_uri": "https://localhost:8080/"
        },
        "id": "0WMaLHZkMkPb",
        "outputId": "f8acab4f-ba88-4b80-f908-deb64be0285e"
      },
      "source": [
        "# Start traning\n",
        "\n",
        "train(model)"
      ],
      "execution_count": 11,
      "outputs": [
        {
          "output_type": "stream",
          "name": "stdout",
          "text": [
            "objects: ['pistol']\n",
            "numids [2]\n",
            "objects: ['pistol']\n",
            "numids [2]\n",
            "objects: ['pistol']\n",
            "numids [2]\n",
            "objects: ['carabine']\n",
            "numids [3]\n",
            "objects: ['pistol']\n",
            "numids [2]\n",
            "objects: ['pistol']\n",
            "numids [2]\n",
            "objects: ['pistol']\n",
            "numids [2]\n",
            "objects: ['pistol']\n",
            "numids [2]\n",
            "objects: ['carabine', 'carabine']\n",
            "numids [3, 3]\n",
            "objects: ['pistol']\n",
            "numids [2]\n",
            "objects: ['pistol', 'carabine', 'carabine', 'pistol']\n",
            "numids [2, 3, 3, 2]\n",
            "objects: ['pistol', 'pistol']\n",
            "numids [2, 2]\n",
            "objects: ['pistol']\n",
            "numids [2]\n",
            "objects: ['pistol']\n",
            "numids [2]\n",
            "objects: ['pistol']\n",
            "numids [2]\n",
            "objects: ['pistol']\n",
            "numids [2]\n",
            "objects: ['pistol']\n",
            "numids [2]\n",
            "objects: ['carabine']\n",
            "numids [3]\n",
            "objects: ['carabine']\n",
            "numids [3]\n",
            "objects: ['carabine', 'carabine']\n",
            "numids [3, 3]\n",
            "objects: ['carabine']\n",
            "numids [3]\n",
            "objects: ['carabine', 'carabine', 'carabine']\n",
            "numids [3, 3, 3]\n",
            "objects: ['pistol', 'carabine']\n",
            "numids [2, 3]\n",
            "objects: ['pistol', 'pistol']\n",
            "numids [2, 2]\n",
            "objects: ['pistol']\n",
            "numids [2]\n",
            "objects: ['knife']\n",
            "numids [1]\n",
            "objects: ['knife']\n",
            "numids [1]\n",
            "objects: ['knife']\n",
            "numids [1]\n",
            "objects: ['knife']\n",
            "numids [1]\n",
            "objects: ['knife']\n",
            "numids [1]\n",
            "objects: ['knife']\n",
            "numids [1]\n",
            "objects: ['pistol', 'pistol']\n",
            "numids [2, 2]\n",
            "objects: ['knife', 'knife']\n",
            "numids [1, 1]\n",
            "objects: ['knife', 'pistol', 'carabine']\n",
            "numids [1, 2, 3]\n",
            "objects: ['pistol']\n",
            "numids [2]\n",
            "objects: ['carabine']\n",
            "numids [3]\n",
            "objects: ['pistol']\n",
            "numids [2]\n",
            "objects: ['pistol']\n",
            "numids [2]\n",
            "objects: ['pistol']\n",
            "numids [2]\n",
            "objects: ['pistol', 'pistol']\n",
            "numids [2, 2]\n",
            "objects: ['knife']\n",
            "numids [1]\n",
            "objects: ['knife']\n",
            "numids [1]\n",
            "objects: ['knife', 'pistol', 'carabine']\n",
            "numids [1, 2, 3]\n",
            "Training network heads\n",
            "\n",
            "Starting at epoch 0. LR=0.001\n",
            "\n",
            "Checkpoint Path: /content/logs/object20211004T2331/mask_rcnn_object_{epoch:04d}.h5\n",
            "Selecting layers to train\n",
            "fpn_c5p5               (Conv2D)\n",
            "fpn_c4p4               (Conv2D)\n",
            "fpn_c3p3               (Conv2D)\n",
            "fpn_c2p2               (Conv2D)\n",
            "fpn_p5                 (Conv2D)\n",
            "fpn_p2                 (Conv2D)\n",
            "fpn_p3                 (Conv2D)\n",
            "fpn_p4                 (Conv2D)\n",
            "In model:  rpn_model\n",
            "    rpn_conv_shared        (Conv2D)\n",
            "    rpn_class_raw          (Conv2D)\n",
            "    rpn_bbox_pred          (Conv2D)\n",
            "mrcnn_mask_conv1       (TimeDistributed)\n",
            "mrcnn_mask_bn1         (TimeDistributed)\n",
            "mrcnn_mask_conv2       (TimeDistributed)\n",
            "mrcnn_mask_bn2         (TimeDistributed)\n",
            "mrcnn_class_conv1      (TimeDistributed)\n",
            "mrcnn_class_bn1        (TimeDistributed)\n",
            "mrcnn_mask_conv3       (TimeDistributed)\n",
            "mrcnn_mask_bn3         (TimeDistributed)\n",
            "mrcnn_class_conv2      (TimeDistributed)\n",
            "mrcnn_class_bn2        (TimeDistributed)\n",
            "mrcnn_mask_conv4       (TimeDistributed)\n",
            "mrcnn_mask_bn4         (TimeDistributed)\n",
            "mrcnn_bbox_fc          (TimeDistributed)\n",
            "mrcnn_mask_deconv      (TimeDistributed)\n",
            "mrcnn_class_logits     (TimeDistributed)\n",
            "mrcnn_mask             (TimeDistributed)\n",
            "WARNING:tensorflow:From /usr/local/lib/python3.7/dist-packages/keras/optimizers.py:793: The name tf.train.Optimizer is deprecated. Please use tf.compat.v1.train.Optimizer instead.\n",
            "\n"
          ]
        },
        {
          "output_type": "stream",
          "name": "stderr",
          "text": [
            "/tensorflow-1.15.2/python3.7/tensorflow_core/python/framework/indexed_slices.py:424: UserWarning: Converting sparse IndexedSlices to a dense Tensor of unknown shape. This may consume a large amount of memory.\n",
            "  \"Converting sparse IndexedSlices to a dense Tensor of unknown shape. \"\n",
            "/tensorflow-1.15.2/python3.7/tensorflow_core/python/framework/indexed_slices.py:424: UserWarning: Converting sparse IndexedSlices to a dense Tensor of unknown shape. This may consume a large amount of memory.\n",
            "  \"Converting sparse IndexedSlices to a dense Tensor of unknown shape. \"\n",
            "/tensorflow-1.15.2/python3.7/tensorflow_core/python/framework/indexed_slices.py:424: UserWarning: Converting sparse IndexedSlices to a dense Tensor of unknown shape. This may consume a large amount of memory.\n",
            "  \"Converting sparse IndexedSlices to a dense Tensor of unknown shape. \"\n"
          ]
        },
        {
          "output_type": "stream",
          "name": "stdout",
          "text": [
            "WARNING:tensorflow:From /usr/local/lib/python3.7/dist-packages/keras/backend/tensorflow_backend.py:1033: The name tf.assign_add is deprecated. Please use tf.compat.v1.assign_add instead.\n",
            "\n",
            "WARNING:tensorflow:From /usr/local/lib/python3.7/dist-packages/keras/backend/tensorflow_backend.py:1020: The name tf.assign is deprecated. Please use tf.compat.v1.assign instead.\n",
            "\n"
          ]
        },
        {
          "output_type": "stream",
          "name": "stderr",
          "text": [
            "/usr/local/lib/python3.7/dist-packages/keras/engine/training_generator.py:49: UserWarning: Using a generator with `use_multiprocessing=True` and multiple workers may duplicate your data. Please consider using the `keras.utils.Sequence class.\n",
            "  UserWarning('Using a generator with `use_multiprocessing=True`'\n"
          ]
        },
        {
          "output_type": "stream",
          "name": "stdout",
          "text": [
            "WARNING:tensorflow:From /usr/local/lib/python3.7/dist-packages/keras/callbacks.py:1122: The name tf.summary.merge_all is deprecated. Please use tf.compat.v1.summary.merge_all instead.\n",
            "\n",
            "WARNING:tensorflow:From /usr/local/lib/python3.7/dist-packages/keras/callbacks.py:1125: The name tf.summary.FileWriter is deprecated. Please use tf.compat.v1.summary.FileWriter instead.\n",
            "\n",
            "Epoch 1/10\n",
            " - 332s - loss: 1.6657 - val_loss: 0.7537\n",
            "WARNING:tensorflow:From /usr/local/lib/python3.7/dist-packages/keras/callbacks.py:1265: The name tf.Summary is deprecated. Please use tf.compat.v1.Summary instead.\n",
            "\n",
            "Epoch 2/10\n",
            " - 272s - loss: 0.7222 - val_loss: 0.3824\n",
            "Epoch 3/10\n",
            " - 272s - loss: 0.5258 - val_loss: 0.3644\n",
            "Epoch 4/10\n",
            " - 272s - loss: 0.4154 - val_loss: 0.3293\n",
            "Epoch 5/10\n",
            " - 272s - loss: 0.3901 - val_loss: 0.3334\n",
            "Epoch 6/10\n",
            " - 272s - loss: 0.3141 - val_loss: 0.2182\n",
            "Epoch 7/10\n",
            " - 272s - loss: 0.2914 - val_loss: 0.2216\n",
            "Epoch 8/10\n",
            " - 272s - loss: 0.2600 - val_loss: 0.1748\n",
            "Epoch 9/10\n",
            " - 270s - loss: 0.2444 - val_loss: 0.1610\n",
            "Epoch 10/10\n",
            " - 271s - loss: 0.2327 - val_loss: 0.1866\n"
          ]
        }
      ]
    },
    {
      "cell_type": "code",
      "metadata": {
        "colab": {
          "base_uri": "https://localhost:8080/",
          "height": 35
        },
        "id": "kLyFUSff4tep",
        "outputId": "22b205f8-9327-4716-f5c7-04aa74647fc5"
      },
      "source": [
        "import shutil\n",
        "\n",
        "# Load weights logs\n",
        "shutil.copytree('/content/logs', '/content/drive/MyDrive/Mask_RCNN/weapon_logs')"
      ],
      "execution_count": 1,
      "outputs": [
        {
          "output_type": "execute_result",
          "data": {
            "application/vnd.google.colaboratory.intrinsic+json": {
              "type": "string"
            },
            "text/plain": [
              "'/content/drive/MyDrive/Mask_RCNN/weapon_logs'"
            ]
          },
          "metadata": {},
          "execution_count": 1
        }
      ]
    }
  ]
}